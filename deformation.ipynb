{
 "cells": [
  {
   "cell_type": "markdown",
   "metadata": {},
   "source": [
    "# Ground deformation and monitoring\n",
    "\n",
    "Volcanoes often exhibit geophysical and geochemical signals before, during and after an eruption. These signals allow volcanologists to monitor active volcanoes to gain knowledge about processes in the magma chamber, conduit and edifice and to potentially predict the time and location of a future eruption. One type of geophysical signal is the deformation or movement of the volcanic edifice and surrounding crust. Changes in the surface of the volcano are related to magma intrusion, dome growth, pressure increase in the magma chamber or flank instability. In this exercise you will learn how surface deformation signals can be related to pressure and volume changes in magma chambers. "
   ]
  },
  {
   "cell_type": "markdown",
   "metadata": {},
   "source": [
    "## Part 1: Model surface deformation\n",
    "\n",
    "Calculate a model for surface deformation at a volcano in terms of vertical and horizontal displacement components (cm) of the ground as a function of the distance away from the center of deformation, following Mogi (1958) formulation. Surface deformation can be expressed by a spherical pressure source buried in an elastic medium. Therefore, a change in pressure (or in volume) at the source level causes a displacement at the surface:\n",
    "\n",
    "**Horizontal displacement:**\n",
    "$$U_z = \\frac{3a^3\\ \\Delta P\\ d}{4G\\sqrt{(d^2+r^2)^3}}$$\n",
    "**Vertical displacement:**\n",
    "$$U_r = \\frac{3a^3\\ \\Delta P\\ r}{4G\\sqrt{(d^2+r^2)^3}}$$\n",
    "\n",
    "Where:\n",
    "\n",
    "- $a$: Radius of the source sphere [km]\n",
    "- $b$: Depth to the center of the source sphere [km]\n",
    "- $G$: Shear modulus [GPa]\n",
    "- $\\Delta P$: change in pressure in the sphere [MPa]\n",
    "- $r$: Radial distance on the surface [km]\n",
    "- $U_r$: Horizontal displacement [m]\n",
    "- $U_rz$: Vertical displacement [m]\n",
    "\n",
    "\n",
    "We first start by importing the main libraries we will be using:\n",
    "- `pandas` is useful for tabulated data (e.g., such as an Excel table)\n",
    "- `numpy` provides the most common math functions \n",
    "\n",
    "We then create a pandas *dataframe*, which is the main object that will store our data. "
   ]
  },
  {
   "cell_type": "code",
   "execution_count": 33,
   "metadata": {},
   "outputs": [
    {
     "ename": "ModuleNotFoundError",
     "evalue": "No module named 'deformation_functions'",
     "output_type": "error",
     "traceback": [
      "\u001b[0;31m---------------------------------------------------------------------------\u001b[0m",
      "\u001b[0;31mModuleNotFoundError\u001b[0m                       Traceback (most recent call last)",
      "Cell \u001b[0;32mIn[33], line 5\u001b[0m\n\u001b[1;32m      3\u001b[0m \u001b[38;5;28;01mimport\u001b[39;00m \u001b[38;5;21;01mnumpy\u001b[39;00m \u001b[38;5;28;01mas\u001b[39;00m \u001b[38;5;21;01mnp\u001b[39;00m \u001b[38;5;66;03m# Used to perform the calculations\u001b[39;00m\n\u001b[1;32m      4\u001b[0m \u001b[38;5;28;01mimport\u001b[39;00m \u001b[38;5;21;01mmatplotlib\u001b[39;00m\u001b[38;5;21;01m.\u001b[39;00m\u001b[38;5;21;01mpyplot\u001b[39;00m \u001b[38;5;28;01mas\u001b[39;00m \u001b[38;5;21;01mplt\u001b[39;00m \u001b[38;5;66;03m# Used to plot the data\u001b[39;00m\n\u001b[0;32m----> 5\u001b[0m \u001b[38;5;28;01mimport\u001b[39;00m \u001b[38;5;21;01mdeformation_functions\u001b[39;00m\n\u001b[1;32m      6\u001b[0m \u001b[38;5;28;01mimport\u001b[39;00m \u001b[38;5;21;01mos\u001b[39;00m \n\u001b[1;32m      7\u001b[0m \u001b[38;5;28mprint\u001b[39m(os\u001b[38;5;241m.\u001b[39mcurdir)\n",
      "\u001b[0;31mModuleNotFoundError\u001b[0m: No module named 'deformation_functions'"
     ]
    }
   ],
   "source": [
    "# Importing the main libraries we are going to use\n",
    "import pandas as pd # Used to store the data \n",
    "import numpy as np # Used to perform the calculations\n",
    "import matplotlib.pyplot as plt # Used to plot the data\n",
    "\n",
    "import os \n",
    "print(os.curdir)\n",
    "# # Creating a dataframe - don't worry too much about this for now\n",
    "# df = pd.DataFrame({'r': [0, 0.5, 1, 1.5, 2, 2.5, 3, 3.5, 4, 4.5, 5, 10, 15, 20, 25, 30], 'ur_m': [0]*16, 'uz_m': [0]*16, 'ur_cm': [0]*16, 'uz_cm': [0]*16})\n",
    "# # Displaying the dataframe\n",
    "# print(df)"
   ]
  },
  {
   "cell_type": "markdown",
   "metadata": {},
   "source": [
    "We now have a *dataframe* variable called `df` that contains the radial distance on the surface stored in the column called `r`. Let's review the most basic commands we will use:\n",
    "\n",
    "##### Pandas\n",
    "\n",
    "- To access the values of a column: \n",
    "    ```python\n",
    "      df['r']\n",
    "    ```\n",
    "- To set a new value to a column: \n",
    "    ```python\n",
    "      df['ur_m'] = 2.5\n",
    "    ```\n",
    "- To fill the value of a column based on calculations that depend on another column: \n",
    "    ```python\n",
    "      df['ur_cm'] = df['ur_m']*1e2\n",
    "    ```\n",
    "\n",
    "##### Arithmetic operations\n",
    "\n",
    "- Power: Using `**`\n",
    "  - `2**3` is equal to 8\n",
    "\n",
    "- Square root: `np.sqrt()`\n",
    "  - `np.sqrt(9)` is equal to 3\n",
    "  - Alternatively `9**1/3` is also equal to 3\n",
    "\n",
    "##### Combining both\n",
    "\n",
    "- You can easily use `numpy` operators with `pandas`:\n",
    "\n",
    "    ```python\n",
    "      df['ur_cm'] = np.sqrt(df['r'])\n",
    "    ```"
   ]
  },
  {
   "cell_type": "markdown",
   "metadata": {},
   "source": [
    "Back to the objective: we want to compute the vertical ($U_r$) and horizontal ($U_z$) displacements as a function of radial distance `r` using the appropriate equations"
   ]
  },
  {
   "cell_type": "code",
   "execution_count": 26,
   "metadata": {},
   "outputs": [
    {
     "name": "stdout",
     "output_type": "stream",
     "text": [
      "       r      ur_m      uz_m     ur_cm     uz_cm\n",
      "0    0.0  0.000000  0.020000  0.000000  2.000000\n",
      "1    0.5  0.001970  0.019704  0.197037  1.970371\n",
      "2    1.0  0.003771  0.018857  0.377146  1.885732\n",
      "3    1.5  0.005272  0.017575  0.527244  1.757479\n",
      "4    2.0  0.006403  0.016008  0.640329  1.600822\n",
      "5    2.5  0.007155  0.014311  0.715542  1.431084\n",
      "6    3.0  0.007566  0.012610  0.756611  1.261019\n",
      "7    3.5  0.007697  0.010996  0.769748  1.099640\n",
      "8    4.0  0.007618  0.009523  0.761823  0.952279\n",
      "9    4.5  0.007392  0.008213  0.739188  0.821319\n",
      "10   5.0  0.007071  0.007071  0.707107  0.707107\n",
      "11  10.0  0.003578  0.001789  0.357771  0.178885\n",
      "12  15.0  0.001897  0.000632  0.189737  0.063246\n",
      "13  20.0  0.001141  0.000285  0.114134  0.028534\n",
      "14  25.0  0.000754  0.000151  0.075429  0.015086\n",
      "15  30.0  0.000533  0.000089  0.053319  0.008886\n"
     ]
    },
    {
     "data": {
      "text/plain": [
       "<matplotlib.legend.Legend at 0x109d95310>"
      ]
     },
     "execution_count": 26,
     "metadata": {},
     "output_type": "execute_result"
    },
    {
     "data": {
      "image/png": "[encoded data removed]",
      "text/plain": [
       "<Figure size 640x480 with 1 Axes>"
      ]
     },
     "metadata": {},
     "output_type": "display_data"
    }
   ],
   "source": [
    "# Setting the main model parameters\n",
    "G = 30 # Shear modulus [GPa]\n",
    "dP = 20 # Pressure difference [MPa]\n",
    "a = 1 # Chamber radius [km]\n",
    "d = 5 # Chamber depth [km]\n",
    "\n",
    "# Calculate the radial and vertical displacements\n",
    "df['ur_m'] = (3*a**3*dP*df['r'])/(4*G*np.sqrt((d**2+df['r']**2)**3))\n",
    "df['uz_m'] = (3*a**3*dP*d)/(4*G*np.sqrt((d**2+df['r']**2)**3))\n",
    "\n",
    "# Convert the results to cm\n",
    "df['ur_cm'] = df['ur_m']*1e2\n",
    "df['uz_cm'] = df['uz_m']*1e2\n",
    "\n",
    "# Display the results\n",
    "print(df)\n",
    "\n",
    "# Plotting the results\n",
    "fig, ax = plt.subplots()\n",
    "ax.plot(df['r'], df['ur_cm'], label='Radial')\n",
    "ax.plot(df['r'], df['uz_cm'], label='Vertical')\n",
    "ax.set_xlabel('Distance from the center of the chamber [km]')\n",
    "ax.set_ylabel('Displacement [cm]')\n",
    "plt.legend(frameon=False)\n"
   ]
  },
  {
   "cell_type": "markdown",
   "metadata": {},
   "source": [
    "### Question 1:\n",
    "\n",
    "Look at the vertical and horizontal components vs the distance. How do these curves differ?"
   ]
  },
  {
   "cell_type": "markdown",
   "metadata": {},
   "source": [
    "## Part 2: Constrain the depth of the magma chamber\n",
    "\n",
    "Some time after the activity state of the volcano changes, you are provided with GPS data measured at four stations. A pressure change of 70 MPa and a shear modulus of 30 GPa were estimated with other methods. \n",
    "\n",
    "You are asked to try to constrain the depth of the magma chamber, knowing that past estimations calculated a chamber radius of 2.5 km and chamber depths around 6-12 km.\n",
    "\n",
    "\n",
    " (iterate the model calculation for several depths). Use a Pearson’s $\\Chi^2$ test compare the displacements results with the GPS measurements.\n",
    "\n",
    "$$\n",
    "\\Chi^2 = \\sum_{i=1}^{n} \\frac{(O_i - E_i)^2}{E_i}\n",
    "$$\n",
    "\n",
    "where:\n",
    "- $O_i$ is the modelled value,\n",
    "- $E_i$ is the expected value,\n",
    "- $n$ is the number of observations.\n",
    "                         \n",
    "                                    \n",
    "                                    "
   ]
  },
  {
   "cell_type": "code",
   "execution_count": 29,
   "metadata": {},
   "outputs": [
    {
     "name": "stdout",
     "output_type": "stream",
     "text": [
      "                 r  observed_uz  observed_ur  modelled_uz  modelled_ur  \\\n",
      "GNSS station                                                             \n",
      "LP03           5.1        0.220        0.120            0            0   \n",
      "ARID           5.8        0.151        0.196            0            0   \n",
      "LP04           8.9        0.098        0.122            0            0   \n",
      "MOLU          10.7        0.030        0.045            0            0   \n",
      "\n",
      "              chi_uz  chi_ur  \n",
      "GNSS station                  \n",
      "LP03               0       0  \n",
      "ARID               0       0  \n",
      "LP04               0       0  \n",
      "MOLU               0       0  \n"
     ]
    }
   ],
   "source": [
    "\n",
    "# Create a dataframe that replicates what is on the clipboard\n",
    "data = {\n",
    "    'GNSS station': ['LP03', 'ARID', 'LP04', 'MOLU'],\n",
    "    'r': [5.1, 5.8, 8.9, 10.7],\n",
    "    'observed_uz': [0.220, 0.151, 0.098, 0.030],\n",
    "    'observed_ur': [0.120, 0.196, 0.122, 0.045],\n",
    "    'modelled_uz': [0]*4,\n",
    "    'modelled_ur': [0]*4,\n",
    "    'chi_uz': [0]*4,\n",
    "    'chi_ur': [0]*4\n",
    "}\n",
    "df_stations = pd.DataFrame(data).set_index('GNSS station')\n",
    "\n",
    "# Display the dataframe\n",
    "print(df_stations)\n",
    "\n",
    "total_chi = pd.DataFrame({'r': [6,7,8,9,10,11,12], 'total_chi': [0]*7}).set_index('GNSS station')"
   ]
  }
 ],
 "metadata": {
  "kernelspec": {
   "display_name": "gis",
   "language": "python",
   "name": "python3"
  },
  "language_info": {
   "codemirror_mode": {
    "name": "ipython",
    "version": 3
   },
   "file_extension": ".py",
   "mimetype": "text/x-python",
   "name": "python",
   "nbconvert_exporter": "python",
   "pygments_lexer": "ipython3",
   "version": "3.11.6"
  }
 },
 "nbformat": 4,
 "nbformat_minor": 2
}
